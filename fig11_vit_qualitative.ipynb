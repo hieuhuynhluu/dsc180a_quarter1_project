{
  "cells": [
    {
      "cell_type": "markdown",
      "id": "8e52ee82-e7e5-4bb9-a1a8-efc6e009c98f",
      "metadata": {
        "id": "8e52ee82-e7e5-4bb9-a1a8-efc6e009c98f"
      },
      "source": [
        "## ViT Qualitative"
      ]
    },
    {
      "cell_type": "code",
      "execution_count": 1,
      "id": "e29c7be9-8a6a-44dd-89cb-877dffe8d4db",
      "metadata": {
        "colab": {
          "base_uri": "https://localhost:8080/"
        },
        "id": "e29c7be9-8a6a-44dd-89cb-877dffe8d4db",
        "outputId": "5d60b3e3-a829-4e3f-bfff-7f2e3678a7be"
      },
      "outputs": [],
      "source": [
        "# !!DO NOT EDIT!!\n",
        "\n",
        "import os\n",
        "\n",
        "import torch\n",
        "import pandas as pd\n",
        "import numpy as np\n",
        "\n",
        "import clip\n",
        "import utils\n",
        "import data_utils\n",
        "import similarity\n",
        "import PySimpleGUI as psg\n",
        "from matplotlib import pyplot as plt\n",
        "from matplotlib.backends.backend_tkagg import FigureCanvasTkAgg\n",
        "import matplotlib\n"
      ]
    },
    {
      "cell_type": "markdown",
      "id": "sp6a4CHfa3W-",
      "metadata": {
        "id": "sp6a4CHfa3W-"
      },
      "source": []
    },
    {
      "cell_type": "markdown",
      "id": "0e693e37-a3ae-4aad-a03d-492e2a08eb5d",
      "metadata": {
        "id": "0e693e37-a3ae-4aad-a03d-492e2a08eb5d"
      },
      "source": [
        "## Settings"
      ]
    },
    {
      "cell_type": "code",
      "execution_count": 2,
      "id": "abc79d69-08a0-4236-b26b-45918aa7b108",
      "metadata": {
        "id": "abc79d69-08a0-4236-b26b-45918aa7b108"
      },
      "outputs": [],
      "source": [
        "clip_name = 'ViT-B/16'\n",
        "d_probe = 'imagenet_val'\n",
        "concept_set = 'data/10k.txt'\n",
        "batch_size = 30\n",
        "device = 'cuda'\n",
        "pool_mode = 'avg'\n",
        "\n",
        "save_dir = 'saved_activations'\n",
        "similarity_fn = similarity.soft_wpmi"
      ]
    },
    {
      "cell_type": "code",
      "execution_count": 3,
      "id": "1724590a-2333-4daa-9948-6be1dfc60c25",
      "metadata": {
        "id": "1724590a-2333-4daa-9948-6be1dfc60c25"
      },
      "outputs": [],
      "source": [
        "target_name = 'resnet50'\n",
        "target_layer = 'layer1'"
      ]
    },
    {
      "cell_type": "markdown",
      "id": "89f1eb6d-87cc-4430-b8e4-cd48d2643c7d",
      "metadata": {
        "id": "89f1eb6d-87cc-4430-b8e4-cd48d2643c7d"
      },
      "source": [
        "## Run CLIP-Dissect"
      ]
    },
    {
      "cell_type": "code",
      "execution_count": 4,
      "id": "4b6a1e91-5363-43a3-8f0b-4a034515923e",
      "metadata": {
        "colab": {
          "base_uri": "https://localhost:8080/"
        },
        "id": "4b6a1e91-5363-43a3-8f0b-4a034515923e",
        "outputId": "44ddcbf3-fdc0-4fba-a4d5-03e7738aab25"
      },
      "outputs": [],
      "source": [
        "utils.save_activations(clip_name = clip_name, target_name = target_name, target_layers = [target_layer],\n",
        "                       d_probe = d_probe, concept_set = concept_set, batch_size = batch_size,\n",
        "                       device = device, pool_mode=pool_mode, save_dir = save_dir)\n",
        "\n",
        "with open(concept_set, 'r') as f:\n",
        "    words = (f.read()).split('\\n')\n",
        "\n",
        "pil_data = data_utils.get_data(d_probe)"
      ]
    },
    {
      "cell_type": "code",
      "execution_count": 7,
      "id": "edd0e205-0b81-4d59-80ac-16b321e56949",
      "metadata": {
        "colab": {
          "base_uri": "https://localhost:8080/"
        },
        "id": "edd0e205-0b81-4d59-80ac-16b321e56949",
        "outputId": "c6d5b184-79f9-48cc-a0f4-32df3f7c788e"
      },
      "outputs": [
        {
          "name": "stderr",
          "output_type": "stream",
          "text": [
            "100%|██████████| 256/256 [00:00<00:00, 512.76it/s]\n"
          ]
        },
        {
          "name": "stdout",
          "output_type": "stream",
          "text": [
            "torch.Size([256, 9894])\n"
          ]
        }
      ],
      "source": [
        "save_names = utils.get_save_names(clip_name = clip_name, target_name = target_name,\n",
        "                                  target_layer = target_layer, d_probe = d_probe,\n",
        "                                  concept_set = concept_set, pool_mode=pool_mode,\n",
        "                                  save_dir = save_dir)\n",
        "\n",
        "target_save_name, clip_save_name, text_save_name = save_names\n",
        "\n",
        "similarities, target_feats = utils.get_similarity_from_activations(target_save_name, clip_save_name,\n",
        "                                                                text_save_name, similarity_fn, device=device)"
      ]
    },
    {
      "cell_type": "markdown",
      "id": "04e9fb5f-4225-428b-b2f5-3b72ce3833b0",
      "metadata": {
        "id": "04e9fb5f-4225-428b-b2f5-3b72ce3833b0"
      },
      "source": [
        "## Visualize"
      ]
    },
    {
      "cell_type": "code",
      "execution_count": 6,
      "id": "pRptQZJKiLKq",
      "metadata": {
        "id": "pRptQZJKiLKq"
      },
      "outputs": [],
      "source": [
        "import matplotlib.pyplot as plt\n",
        "from matplotlib.backends.backend_tkagg import FigureCanvasTkAgg\n",
        "import numpy as np"
      ]
    },
    {
      "cell_type": "code",
      "execution_count": 7,
      "id": "51973b10",
      "metadata": {},
      "outputs": [],
      "source": [
        "fields = ['neuron', 'accurate', 'prediction', 'label']\n",
        "rows = []"
      ]
    },
    {
      "cell_type": "code",
      "execution_count": 8,
      "id": "p7JP7oNhhK4L",
      "metadata": {
        "colab": {
          "base_uri": "https://localhost:8080/",
          "height": 425
        },
        "id": "p7JP7oNhhK4L",
        "outputId": "fda8a1b4-72c3-40c9-c667-c84f273e1882"
      },
      "outputs": [],
      "source": [
        "top_vals, top_ids = torch.topk(target_feats, k=10, dim=0)\n",
        "neurons_to_check = torch.sort(torch.max(similarities, dim=1)[0], descending=True)[1][0:4]\n",
        "font_size = 14\n",
        "font = {'size'   : font_size}\n",
        "matplotlib.use('TkAgg')\n",
        "\n",
        "matplotlib.rc('font', **font)\n",
        "\n",
        "\n",
        "def draw_figure(canvas, figure):\n",
        "   tkcanvas = FigureCanvasTkAgg(figure, canvas)\n",
        "   tkcanvas.draw()\n",
        "   tkcanvas.get_tk_widget().pack(side='bottom', fill='both', expand=1)\n",
        "   return tkcanvas\n",
        "psg.set_options(font=('Arial Bold', 16))\n",
        "\n",
        "layout = [\n",
        "   [psg.Text('Label: '), psg.Input(key='-LABEL-', do_not_clear=False, focus=True)],\n",
        "   [psg.Button(\"yes\"), psg.Button(\"maybe\"), psg.Button(\"no\"), psg.Exit()],\n",
        "   [psg.Canvas(key='-CANVAS-')],\n",
        "   \n",
        "]\n",
        "window = psg.Window('Labeller', layout, modal=True, size=(715, 300), resizable=True, finalize=True, element_justification='left')\n",
        "fig = matplotlib.figure.Figure(figsize=[15, 2])#constrained_layout=True)\n",
        "window['-LABEL-'].set_focus()\n",
        "window.bind(\"<Alt_L><q>\", \"ALT-1\")\n",
        "window.bind(\"<Alt_L><w>\", \"ALT-2\")\n",
        "window.bind(\"<Alt_L><e>\", \"ALT-3\")\n",
        "tkcanvas = draw_figure(window['-CANVAS-'].TKCanvas, fig)\n",
        "\n",
        "for orig_id in range(len(similarities)):\n",
        "   fig.clear()\n",
        "   tkcanvas.get_tk_widget().forget()\n",
        "\n",
        "   vals, ids = torch.topk(similarities[orig_id], k=5, largest=True)\n",
        "\n",
        "   fig.text(0.13, 0.9, \"Neuron {}:\".format(int(orig_id)), size=font_size)\n",
        "   fig.text(0.3, 0.9, \"CLIP-Dissect:\", size=font_size)\n",
        "   fig.text(0.5, 0.9, words[int(ids[0])], size=font_size)\n",
        "   axs = fig.subplots(nrows=2, ncols=5)\n",
        "   for i, top_id in enumerate(top_ids[:, orig_id]):\n",
        "      im, label = pil_data[top_id]\n",
        "      im = im.resize([375,375])\n",
        "      axs[int(i/5), i % 5].imshow(im)\n",
        "      axs[int(i/5), i % 5].axis('off')\n",
        "\n",
        "   tkcanvas = draw_figure(window['-CANVAS-'].TKCanvas, fig)\n",
        "   window['-LABEL-'].set_focus(force=True)\n",
        "   event, values = window.read()\n",
        "   \n",
        "   if event == psg.WIN_CLOSED or event == 'Exit':\n",
        "      break\n",
        "   elif event in (\"ALT-1\"):\n",
        "      event = 'yes'\n",
        "   elif event in (\"ALT-2\"):\n",
        "      event = 'maybe'\n",
        "   elif event in (\"ALT-3\"):\n",
        "      event = 'no'\n",
        "   row = [orig_id, event, words[int(ids[0])], values['-LABEL-']]\n",
        "   rows.append(row)\n",
        "window.close()\n",
        "fig.clear()\n"
      ]
    },
    {
      "cell_type": "code",
      "execution_count": 11,
      "id": "9215bd23",
      "metadata": {},
      "outputs": [
        {
          "name": "stdout",
          "output_type": "stream",
          "text": [
            "[[830, 'no', 'bookstore', ''], [831, 'yes', 'habitat', ''], [832, 'yes', 'grid', ''], [833, 'no', 'dogs', ''], [834, 'maybe', 'dress', ''], [835, 'maybe', 'puppy', ''], [836, 'no', 'florists', ''], [837, 'maybe', 'sink', ''], [838, 'maybe', 'gambling', ''], [839, 'yes', 'leaf', ''], [840, 'yes', 'cats', ''], [841, 'maybe', 'textile', ''], [842, 'yes', 'automotive', ''], [843, 'yes', 'grass', ''], [844, 'yes', 'stripes', ''], [845, 'yes', 'nursery', ''], [846, 'maybe', 'kitchen', ''], [847, 'no', 'juvenile', ''], [848, 'no', 'tile', ''], [849, 'no', 'furnished', ''], [850, 'yes', 'buildings', ''], [851, 'no', 'basename', ''], [852, 'yes', 'texture', ''], [853, 'yes', 'stripes', ''], [854, 'maybe', 'clothes', ''], [855, 'yes', 'steps', ''], [856, 'yes', 'web', ''], [857, 'yes', 'exterior', ''], [858, 'yes', 'furniture', ''], [859, 'yes', 'bedrooms', ''], [860, 'maybe', 'dogs', ''], [861, 'no', 'yeast', ''], [862, 'maybe', 'texture', ''], [863, 'yes', 'bird', ''], [864, 'yes', 'fur', ''], [865, 'yes', 'hair', ''], [866, 'no', 'recipe', ''], [867, 'yes', 'castle', ''], [868, 'no', 'bridges', ''], [869, 'yes', 'web', ''], [870, 'yes', 'foods', ''], [871, 'yes', 'cabinets', ''], [872, 'maybe', 'cooking', ''], [873, 'yes', 'branch', ''], [874, 'yes', 'horses', ''], [875, 'yes', 'blue', ''], [876, 'no', 'yeast', ''], [877, 'no', 'bathroom', ''], [878, 'yes', 'beach', ''], [879, 'yes', 'green', ''], [880, 'yes', 'dog', ''], [881, 'yes', 'restaurant', ''], [882, 'yes', 'cooking', ''], [883, 'yes', 'bird', ''], [884, 'no', 'firefox', ''], [885, 'yes', 'dog', ''], [886, 'yes', 'tub', ''], [887, 'no', 'basename', ''], [888, 'no', 'hairy', ''], [889, 'yes', 'wildlife', ''], [890, 'yes', 'habitat', ''], [891, 'no', 'stainless', ''], [892, 'yes', 'social', ''], [893, 'yes', 'bedrooms', ''], [894, 'yes', 'transportation', ''], [895, 'yes', 'pink', ''], [896, 'yes', 'recipes', ''], [897, 'no', 'theaters', ''], [898, 'yes', 'leaf', ''], [899, 'yes', 'exterior', ''], [900, 'yes', 'stripes', ''], [901, 'yes', 'dog', ''], [902, 'yes', 'infant', ''], [903, 'yes', 'aircraft', ''], [904, 'yes', 'textile', ''], [905, 'yes', 'tower', ''], [906, 'maybe', 'leaf', ''], [907, 'maybe', 'racing', ''], [908, 'yes', 'chair', ''], [909, 'yes', 'bedrooms', ''], [910, 'no', 'structural', ''], [911, 'no', 'aa', ''], [912, 'yes', 'leaf', ''], [913, 'no', 'bedding', ''], [914, 'maybe', 'tub', ''], [915, 'no', 'ceiling', ''], [916, 'yes', 'dome', ''], [917, 'no', 'carrier', ''], [918, 'yes', 'darkness', ''], [919, 'no', 'plumbing', ''], [920, 'yes', 'kitchen', ''], [921, 'no', 'adopted', ''], [922, 'no', 'thread', ''], [923, 'no', 'cooperative', ''], [924, 'yes', 'kitchen', ''], [925, 'no', 'juvenile', ''], [926, 'yes', 'flying', ''], [927, 'no', 'dot', ''], [928, 'yes', 'cottages', ''], [929, 'yes', 'furnished', ''], [930, 'no', 'transportation', ''], [931, 'yes', 'field', ''], [932, 'yes', 'chair', ''], [933, 'yes', 'web', ''], [934, 'no', 'sheep', ''], [935, 'yes', 'venue', ''], [936, 'yes', 'bottles', ''], [937, 'yes', 'trains', ''], [938, 'no', 'refrigerator', ''], [939, 'no', 'chairs', ''], [940, 'yes', 'cow', ''], [941, 'yes', 'fashion', ''], [942, 'yes', 'bedroom', ''], [943, 'yes', 'cats', ''], [944, 'yes', 'branches', ''], [945, 'yes', 'bw', ''], [946, 'no', 'juvenile', ''], [947, 'yes', 'races', ''], [948, 'yes', 'duck', 'q'], [949, 'no', 'label', ''], [950, 'yes', 'florists', ''], [951, 'yes', 'bike', ''], [952, 'yes', 'green', ''], [953, 'yes', 'cabin', ''], [954, 'yes', 'tiles', ''], [955, 'yes', 'horse', ''], [956, 'no', 'basename', ''], [957, 'yes', 'aircraft', ''], [958, 'yes', 'bathroom', ''], [959, 'yes', 'soil', ''], [960, 'yes', 'bathroom', ''], [961, 'yes', 'stripes', ''], [962, 'no', 'buttons', ''], [963, 'yes', 'social', ''], [964, 'no', 'pole', ''], [965, 'yes', 'boards', ''], [966, 'no', 'kitchen', ''], [967, 'yes', 'descending', ''], [968, 'yes', 'architectural', ''], [969, 'yes', 'tables', ''], [970, 'yes', 'kitchen', ''], [971, 'yes', 'desk', ''], [972, 'no', 'volleyball', ''], [973, 'yes', 'spots', ''], [974, 'yes', 'flower', ''], [975, 'maybe', 'workstation', ''], [976, 'yes', 'workstation', ''], [977, 'yes', 'shoes', ''], [978, 'yes', 'carrier', ''], [979, 'yes', 'spots', ''], [980, 'yes', 'textile', ''], [981, 'yes', 'bubble', ''], [982, 'yes', 'pattern', ''], [983, 'maybe', 'bike', ''], [984, 'yes', 'accommodations', ''], [985, 'yes', 'monitors', ''], [986, 'no', 'wheel', ''], [987, 'yes', 'pets', ''], [988, 'yes', 'reef', ''], [989, 'yes', 'reef', ''], [990, 'no', 'accommodation', ''], [991, 'no', 'tags', ''], [992, 'no', 'chair', ''], [993, 'yes', 'appliances', ''], [994, 'no', 'dishes', ''], [995, 'no', 'firefox', ''], [996, 'maybe', 'microwave', ''], [997, 'yes', 'kitchen', ''], [998, 'no', 'regard', ''], [999, 'maybe', 'skiing', ''], [1000, 'yes', 'venue', ''], [1001, 'no', 'steps', ''], [1002, 'yes', 'sink', ''], [1003, 'yes', 'valley', ''], [1004, 'yes', 'cooking', ''], [1005, 'no', 'algeria', ''], [1006, 'yes', 'meat', ''], [1007, 'no', 'basename', ''], [1008, 'no', 'tiger', ''], [1009, 'no', 'redhead', ''], [1010, 'yes', 'produce', ''], [1011, 'yes', 'lake', ''], [1012, 'no', 'cathedral', ''], [1013, 'no', 'venue', ''], [1014, 'yes', 'aircraft', ''], [1015, 'maybe', 'sofa', ''], [1016, 'yes', 'venue', ''], [1017, 'yes', 'grid', ''], [1018, 'yes', 'bubble', ''], [1019, 'no', 'textile', ''], [1020, 'yes', 'nature', ''], [1021, 'yes', 'kitchen', ''], [1022, 'maybe', 'chains', ''], [1023, 'yes', 'tiger', ''], [1024, 'maybe', 'kitchen', ''], [1025, 'yes', 'bubble', ''], [1026, 'maybe', 'textile', ''], [1027, 'no', 'bedrooms', ''], [1028, 'yes', 'scales', ''], [1029, 'yes', 'aircraft', ''], [1030, 'yes', 'buses', ''], [1031, 'maybe', 'livestock', ''], [1032, 'yes', 'arch', ''], [1033, 'no', 'columns', ''], [1034, 'no', 'engine', ''], [1035, 'maybe', 'bread', ''], [1036, 'maybe', 'dog', ''], [1037, 'yes', 'bathroom', ''], [1038, 'yes', 'web', ''], [1039, 'no', 'landscapes', ''], [1040, 'no', 'aluminum', ''], [1041, 'yes', 'knitting', ''], [1042, 'yes', 'landscapes', ''], [1043, 'no', 'aircraft', ''], [1044, 'yes', 'tournament', ''], [1045, 'yes', 'restaurant', ''], [1046, 'no', 'hair', ''], [1047, 'yes', 'kitchen', ''], [1048, 'yes', 'dog', ''], [1049, 'yes', 'accommodation', ''], [1050, 'no', 'basename', ''], [1051, 'yes', 'forestry', ''], [1052, 'maybe', 'sheep', ''], [1053, 'no', 'chess', ''], [1054, 'yes', 'skiing', ''], [1055, 'yes', 'symposium', ''], [1056, 'no', 'volunteers', ''], [1057, 'yes', 'room', ''], [1058, 'yes', 'tables', ''], [1059, 'yes', 'flying', ''], [1060, 'yes', 'stripes', ''], [1061, 'yes', 'wines', ''], [1062, 'yes', 'chairs', ''], [1063, 'yes', 'grid', ''], [1064, 'yes', 'gardens', ''], [1065, 'yes', 'bathroom', ''], [1066, 'no', 'bedding', ''], [1067, 'no', 'foods', ''], [1068, 'yes', 'boat', ''], [1069, 'yes', 'stripes', ''], [1070, 'yes', 'aircraft', ''], [1071, 'no', 'logistics', ''], [1072, 'yes', 'theaters', ''], [1073, 'yes', 'bird', ''], [1074, 'no', 'aggregate', ''], [1075, 'no', 'office', ''], [1076, 'no', 'groundwater', ''], [1077, 'yes', 'sailing', ''], [1078, 'no', 'textile', ''], [1079, 'yes', 'cooking', ''], [1080, 'no', 'tobago', ''], [1081, 'no', 'motorcycles', ''], [1082, 'yes', 'bedrooms', ''], [1083, 'yes', 'mesh', ''], [1084, 'no', 'chef', ''], [1085, 'yes', 'toilet', ''], [1086, 'yes', 'landscapes', ''], [1087, 'no', 'puppy', ''], [1088, 'no', 'yarn', ''], [1089, 'yes', 'facilities', ''], [1090, 'yes', 'crystal', ''], [1091, 'yes', 'dome', ''], [1092, 'no', 'regard', ''], [1093, 'yes', 'bedrooms', ''], [1094, 'yes', 'circles', ''], [1095, 'yes', 'furniture', ''], [1096, 'no', 'hiking', ''], [1097, 'yes', 'dining', ''], [1098, 'yes', 'deployment', ''], [1099, 'yes', 'depot', ''], [1100, 'maybe', 'steam', ''], [1101, 'yes', 'cloth', ''], [1102, 'yes', 'aircraft', ''], [1103, 'no', 'geological', ''], [1104, 'yes', 'stripes', ''], [1105, 'no', 'habitat', ''], [1106, 'yes', 'foods', ''], [1107, 'no', 'ears', ''], [1108, 'yes', 'vegetation', ''], [1109, 'no', 'balloon', ''], [1110, 'yes', 'aircraft', ''], [1111, 'yes', 'street', ''], [1112, 'no', 'pharmacies', ''], [1113, 'no', 'dog', ''], [1114, 'yes', 'steps', ''], [1115, 'no', 'industry', ''], [1116, 'no', 'spa', ''], [1117, 'yes', 'aggregate', ''], [1118, 'yes', 'hiking', ''], [1119, 'yes', 'stripes', ''], [1120, 'yes', 'dog', ''], [1121, 'yes', 'structural', ''], [1122, 'yes', 'tub', ''], [1123, 'yes', 'restaurant', ''], [1124, 'yes', 'wines', ''], [1125, 'yes', 'airlines', ''], [1126, 'no', 'aaa', ''], [1127, 'no', 'bathroom', ''], [1128, 'no', 'ladder', ''], [1129, 'no', 'sculpture', ''], [1130, 'maybe', 'restaurant', ''], [1131, 'no', 'juvenile', ''], [1132, 'yes', 'table', ''], [1133, 'no', 'cabinets', ''], [1134, 'no', 'skirt', ''], [1135, 'yes', 'pattern', ''], [1136, 'yes', 'oven', ''], [1137, 'yes', 'feeding', ''], [1138, 'yes', 'yeast', ''], [1139, 'no', 'stainless', ''], [1140, 'maybe', 'bookstore', ''], [1141, 'no', 'horse', ''], [1142, 'no', 'buttons', ''], [1143, 'yes', 'opponents', ''], [1144, 'no', 'toolkit', ''], [1145, 'no', 'debian', ''], [1146, 'no', 'cabin', ''], [1147, 'yes', 'cat', ''], [1148, 'yes', 'shops', ''], [1149, 'yes', 'buildings', ''], [1150, 'no', 'stripes', ''], [1151, 'no', 'juvenile', ''], [1152, 'no', 'stripes', ''], [1153, 'no', 'social', ''], [1154, 'no', 'debian', ''], [1155, 'yes', 'damage', ''], [1156, 'yes', 'bookstore', ''], [1157, 'no', 'grid', ''], [1158, 'yes', 'tiger', ''], [1159, 'yes', 'airlines', ''], [1160, 'yes', 'cooking', ''], [1161, 'yes', 'bedrooms', ''], [1162, 'yes', 'kitchen', ''], [1163, 'no', 'textile', ''], [1164, 'yes', 'cooking', ''], [1165, 'no', 'bathroom', ''], [1166, 'maybe', 'yeast', ''], [1167, 'yes', 'descending', ''], [1168, 'yes', 'furnished', ''], [1169, 'yes', 'apartment', ''], [1170, 'no', 'candy', ''], [1171, 'yes', 'bridal', ''], [1172, 'yes', 'automotive', ''], [1173, 'yes', 'stripes', ''], [1174, 'no', 'bread', ''], [1175, 'no', 'cabinet', ''], [1176, 'yes', 'steps', ''], [1177, 'no', 'specialized', ''], [1178, 'yes', 'aggregate', ''], [1179, 'yes', 'wildlife', ''], [1180, 'no', 'bikes', ''], [1181, 'no', 'textile', ''], [1182, 'no', 'purse', ''], [1183, 'no', 'sheets', ''], [1184, 'yes', 'toilet', ''], [1185, 'yes', 'purple', ''], [1186, 'maybe', 'horse', ''], [1187, 'yes', 'cabinets', ''], [1188, 'no', 'street', ''], [1189, 'yes', 'campus', ''], [1190, 'no', 'cookbook', ''], [1191, 'no', 'regard', ''], [1192, 'no', 'sink', ''], [1193, 'no', 'patches', ''], [1194, 'no', 'bird', ''], [1195, 'no', 'aluminium', ''], [1196, 'yes', 'grounds', ''], [1197, 'yes', 'textile', ''], [1198, 'yes', 'social', ''], [1199, 'no', 'bathroom', ''], [1200, 'yes', 'buildings', ''], [1201, 'yes', 'vehicle', ''], [1202, 'no', 'kitchen', ''], [1203, 'yes', 'infant', ''], [1204, 'yes', 'buses', ''], [1205, 'no', 'social', ''], [1206, 'no', 'soldiers', ''], [1207, 'yes', 'exterior', ''], [1208, 'yes', 'theatre', ''], [1209, 'yes', 'tiger', ''], [1210, 'yes', 'bedrooms', ''], [1211, 'maybe', 'emerald', ''], [1212, 'no', 'lobby', ''], [1213, 'no', 'textile', ''], [1214, 'yes', 'strings', ''], [1215, 'yes', 'social', ''], [1216, 'no', 'mesh', ''], [1217, 'no', 'fence', ''], [1218, 'no', 'egg', ''], [1219, 'no', 'broadway', ''], [1220, 'no', 'chapel', ''], [1221, 'yes', 'animals', ''], [1222, 'no', 'textile', ''], [1223, 'no', 'falls', ''], [1224, 'yes', 'stripes', ''], [1225, 'maybe', 'yeast', ''], [1226, 'yes', 'bottles', ''], [1227, 'no', 'boating', ''], [1228, 'yes', 'fountain', ''], [1229, 'yes', 'venue', ''], [1230, 'yes', 'landscapes', ''], [1231, 'yes', 'buses', ''], [1232, 'yes', 'pattern', ''], [1233, 'yes', 'airlines', ''], [1234, 'yes', 'baseball', ''], [1235, 'yes', 'textile', ''], [1236, 'yes', 'aggregate', ''], [1237, 'no', 'facilities', ''], [1238, 'no', 'cooking', ''], [1239, 'no', 'hardwood', ''], [1240, 'no', 'basename', ''], [1241, 'yes', 'kitchen', ''], [1242, 'no', 'dog', ''], [1243, 'no', 'transexual', ''], [1244, 'no', 'yamaha', ''], [1245, 'maybe', 'harbour', ''], [1246, 'no', 'spots', ''], [1247, 'no', 'stripes', ''], [1248, 'yes', 'appliances', ''], [1249, 'no', 'nvidia', ''], [1250, 'yes', 'chef', ''], [1251, 'no', 'lobby', ''], [1252, 'yes', 'pattern', ''], [1253, 'no', 'accommodations', ''], [1254, 'yes', 'racing', ''], [1255, 'yes', 'settlement', ''], [1256, 'maybe', 'barrel', ''], [1257, 'no', 'farmers', ''], [1258, 'no', 'cabinets', ''], [1259, 'yes', 'shops', ''], [1260, 'no', 'nursery', ''], [1261, 'no', 'textile', ''], [1262, 'no', 'railway', ''], [1263, 'no', 'dog', ''], [1264, 'yes', 'kitchen', ''], [1265, 'no', 'sofa', ''], [1266, 'yes', 'engine', ''], [1267, 'no', 'regard', ''], [1268, 'yes', 'bathroom', ''], [1269, 'no', 'quilt', ''], [1270, 'yes', 'livestock', ''], [1271, 'no', 'textile', ''], [1272, 'maybe', 'bird', ''], [1273, 'yes', 'yellow', ''], [1274, 'yes', 'aircraft', ''], [1275, 'yes', 'pattern', ''], [1276, 'yes', 'florists', ''], [1277, 'maybe', 'fountain', ''], [1278, 'no', 'retrieve', ''], [1279, 'no', 'library', ''], [1280, 'no', 'trailer', ''], [1281, 'yes', 'cooking', ''], [1282, 'no', 'racing', ''], [1283, 'no', 'marketplace', ''], [1284, 'no', 'pool', ''], [1285, 'yes', 'cat', ''], [1286, 'no', 'leaf', ''], [1287, 'no', 'acne', ''], [1288, 'no', 'yeast', ''], [1289, 'no', 'dishes', ''], [1290, 'yes', 'deployment', ''], [1291, 'maybe', 'sailing', ''], [1292, 'maybe', 'cow', ''], [1293, 'no', 'particles', ''], [1294, 'no', 'tile', ''], [1295, 'no', 'knives', ''], [1296, 'no', 'kitchen', ''], [1297, 'yes', 'cat', ''], [1298, 'no', 'knives', ''], [1299, 'yes', 'florists', ''], [1300, 'yes', 'flooring', ''], [1301, 'yes', 'foods', ''], [1302, 'no', 'printable', ''], [1303, 'maybe', 'sheets', ''], [1304, 'yes', 'grid', ''], [1305, 'yes', 'textile', ''], [1306, 'yes', 'beverages', ''], [1307, 'yes', 'pavilion', ''], [1308, 'no', 'dishes', ''], [1309, 'no', 'televisions', ''], [1310, 'no', 'furnished', ''], [1311, 'no', 'putting', ''], [1312, 'yes', 'nature', ''], [1313, 'no', 'chess', ''], [1314, 'yes', 'puppy', ''], [1315, 'yes', 'wildlife', ''], [1316, 'yes', 'nature', ''], [1317, 'yes', 'grocery', ''], [1318, 'yes', 'coral', ''], [1319, 'no', 'puppy', ''], [1320, 'yes', 'hall', ''], [1321, 'yes', 'infant', ''], [1322, 'no', 'wiring', ''], [1323, 'maybe', 'bookstore', ''], [1324, 'yes', 'bike', ''], [1325, 'yes', 'bird', ''], [1326, 'no', 'swingers', ''], [1327, 'maybe', 'bowl', ''], [1328, 'maybe', 'motorcycle', ''], [1329, 'no', 'textile', ''], [1330, 'yes', 'stripes', ''], [1331, 'yes', 'cuisine', ''], [1332, 'no', 'televisions', ''], [1333, 'no', 'aggregate', ''], [1334, 'yes', 'automotive', ''], [1335, 'maybe', 'washer', ''], [1336, 'no', 'instruments', ''], [1337, 'no', 'aerospace', ''], [1338, 'no', 'ladder', ''], [1339, 'no', 'pool', ''], [1340, 'no', 'projector', ''], [1341, 'yes', 'washer', ''], [1342, 'no', 'textile', ''], [1343, 'yes', 'automotive', ''], [1344, 'maybe', 'columns', ''], [1345, 'yes', 'pattern', ''], [1346, 'no', 'nurses', ''], [1347, 'no', 'toilet', ''], [1348, 'yes', 'deployment', ''], [1349, 'yes', 'musicians', ''], [1350, 'yes', 'arcade', ''], [1351, 'yes', 'fur', ''], [1352, 'yes', 'bookstore', ''], [1353, 'maybe', 'televisions', ''], [1354, 'maybe', 'soup', ''], [1355, 'maybe', 'wool', ''], [1356, 'no', 'cleaners', ''], [1357, 'no', 'bottle', ''], [1358, 'yes', 'aircraft', ''], [1359, 'no', 'assistant', ''], [1360, 'yes', 'sign', ''], [1361, 'no', 'instruments', ''], [1362, 'yes', 'bathroom', ''], [1363, 'yes', 'bookstore', ''], [1364, 'no', 'balloon', ''], [1365, 'yes', 'carnival', ''], [1366, 'no', 'dot', ''], [1367, 'no', 'author', ''], [1368, 'yes', 'wildlife', ''], [1369, 'yes', 'automotive', ''], [1370, 'yes', 'facilities', ''], [1371, 'yes', 'musicians', ''], [1372, 'yes', 'wildlife', ''], [1373, 'maybe', 'yeast', ''], [1374, 'yes', 'web', ''], [1375, 'yes', 'bedrooms', ''], [1376, 'yes', 'forests', ''], [1377, 'yes', 'facility', ''], [1378, 'no', 'transexuales', ''], [1379, 'yes', 'circles', ''], [1380, 'no', 'infrastructure', ''], [1381, 'maybe', 'infants', ''], [1382, 'yes', 'volunteers', ''], [1383, 'maybe', 'television', ''], [1384, 'maybe', 'theatre', ''], [1385, 'yes', 'infant', ''], [1386, 'no', 'chess', ''], [1387, 'no', 'feeding', ''], [1388, 'no', 'python', ''], [1389, 'no', 'concrete', ''], [1390, 'yes', 'skin', ''], [1391, 'no', 'textile', ''], [1392, 'no', 'red', ''], [1393, 'yes', 'pets', ''], [1394, 'yes', 'skin', ''], [1395, 'yes', 'sunset', ''], [1396, 'yes', 'texture', ''], [1397, 'yes', 'steps', ''], [1398, 'maybe', 'grid', ''], [1399, 'yes', 'cabinets', ''], [1400, 'maybe', 'hardwood', ''], [1401, 'no', 'dogs', ''], [1402, 'no', 'bedrooms', ''], [1403, 'no', 'sailing', ''], [1404, 'yes', 'suited', ''], [1405, 'yes', 'clothes', ''], [1406, 'maybe', 'stick', ''], [1407, 'yes', 'bedrooms', ''], [1408, 'yes', 'arch', ''], [1409, 'no', 'airlines', ''], [1410, 'no', 'texture', ''], [1411, 'maybe', 'arch', ''], [1412, 'no', 'silver', ''], [1413, 'no', 'chair', ''], [1414, 'yes', 'bedrooms', ''], [1415, 'maybe', 'mobility', ''], [1416, 'no', 'bathroom', ''], [1417, 'yes', 'burning', ''], [1418, 'no', 'accommodation', ''], [1419, 'yes', 'vegetation', ''], [1420, 'yes', 'geology', ''], [1421, 'no', 'automotive', ''], [1422, 'yes', 'kitchen', ''], [1423, 'maybe', 'casinos', ''], [1424, 'yes', 'coast', ''], [1425, 'no', 'airlines', ''], [1426, 'yes', 'bubble', ''], [1427, 'no', 'sink', ''], [1428, 'no', 'volunteers', ''], [1429, 'maybe', 'tub', ''], [1430, 'maybe', 'hay', ''], [1431, 'no', 'balloon', ''], [1432, 'no', 'recipes', ''], [1433, 'no', 'mug', ''], [1434, 'no', 'female', ''], [1435, 'no', 'sheep', ''], [1436, 'maybe', 'bubble', ''], [1437, 'yes', 'infant', ''], [1438, 'no', 'kitchen', ''], [1439, 'no', 'cabinets', ''], [1440, 'no', 'social', ''], [1441, 'yes', 'circles', ''], [1442, 'yes', 'texture', ''], [1443, 'yes', 'fur', ''], [1444, 'yes', 'wildlife', ''], [1445, 'no', 'textile', ''], [1446, 'no', 'bathroom', ''], [1447, 'no', 'concrete', ''], [1448, 'yes', 'infant', ''], [1449, 'yes', 'spas', ''], [1450, 'yes', 'workstation', ''], [1451, 'yes', 'tiger', ''], [1452, 'maybe', 'furnished', ''], [1453, 'no', 'basename', ''], [1454, 'no', 'framework', ''], [1455, 'yes', 'dog', ''], [1456, 'no', 'bedrooms', ''], [1457, 'yes', 'spots', ''], [1458, 'no', 'greenhouse', ''], [1459, 'yes', 'lake', ''], [1460, 'yes', 'circular', ''], [1461, 'yes', 'spots', ''], [1462, 'yes', 'bedrooms', ''], [1463, 'yes', 'stripes', ''], [1464, 'no', 'housewares', ''], [1465, 'no', 'breakfast', ''], [1466, 'yes', 'carnival', ''], [1467, 'no', 'basename', ''], [1468, 'no', 'exterior', ''], [1469, 'no', 'drinking', ''], [1470, 'yes', 'yellow', ''], [1471, 'no', 'textile', ''], [1472, 'no', 'wool', ''], [1473, 'yes', 'cat', ''], [1474, 'no', 'sink', ''], [1475, 'no', 'bathroom', ''], [1476, 'no', 'driving', ''], [1477, 'yes', 'vegetables', ''], [1478, 'yes', 'bottles', ''], [1479, 'no', 'juvenile', ''], [1480, 'yes', 'buses', ''], [1481, 'maybe', 'wines', ''], [1482, 'no', 'steps', ''], [1483, 'no', 'sheep', ''], [1484, 'yes', 'tournament', ''], [1485, 'no', 'exhibitions', ''], [1486, 'no', 'membrane', ''], [1487, 'no', 'blocks', ''], [1488, 'no', 'female', ''], [1489, 'no', 'textile', ''], [1490, 'no', 'hairy', ''], [1491, 'yes', 'chef', ''], [1492, 'yes', 'passage', ''], [1493, 'no', 'bathroom', ''], [1494, 'maybe', 'housewares', ''], [1495, 'no', 'salon', ''], [1496, 'no', 'cabinets', ''], [1497, 'yes', 'bathroom', ''], [1498, 'yes', 'tree', ''], [1499, 'no', 'basename', ''], [1500, 'no', 'gras', ''], [1501, 'yes', 'habitat', ''], [1502, 'no', 'aggregate', ''], [1503, 'no', 'bedrooms', ''], [1504, 'yes', 'aviation', ''], [1505, 'no', 'textile', ''], [1506, 'no', 'plumbing', ''], [1507, 'yes', 'metals', ''], [1508, 'no', 'lobby', ''], [1509, 'maybe', 'discs', ''], [1510, 'yes', 'swimming', ''], [1511, 'no', 'textile', ''], [1512, 'yes', 'trees', ''], [1513, 'yes', 'pattern', ''], [1514, 'yes', 'bookstore', ''], [1515, 'yes', 'wildlife', ''], [1516, 'yes', 'flight', ''], [1517, 'yes', 'bookstore', ''], [1518, 'no', 'macro', ''], [1519, 'no', 'juvenile', ''], [1520, 'yes', 'texture', ''], [1521, 'no', 'appliances', ''], [1522, 'yes', 'chair', ''], [1523, 'no', 'tobago', ''], [1524, 'maybe', 'sheep', ''], [1525, 'yes', 'restaurant', ''], [1526, 'maybe', 'rock', ''], [1527, 'no', 'basename', ''], [1528, 'yes', 'spots', ''], [1529, 'yes', 'kitchen', ''], [1530, 'no', 'basement', ''], [1531, 'yes', 'performing', ''], [1532, 'yes', 'vehicle', ''], [1533, 'yes', 'wool', ''], [1534, 'no', 'horses', ''], [1535, 'no', 'boutique', ''], [1536, 'yes', 'tables', ''], [1537, 'no', 'buses', ''], [1538, 'no', 'spots', ''], [1539, 'no', 'geological', ''], [1540, 'yes', 'circular', ''], [1541, 'yes', 'yellow', ''], [1542, 'no', 'modeling', ''], [1543, 'no', 'cooking', ''], [1544, 'no', 'carpet', ''], [1545, 'yes', 'bathroom', ''], [1546, 'no', 'sink', ''], [1547, 'no', 'textile', ''], [1548, 'no', 'purple', ''], [1549, 'yes', 'habitat', ''], [1550, 'yes', 'boxes', ''], [1551, 'yes', 'steps', ''], [1552, 'no', 'vatican', ''], [1553, 'no', 'regard', ''], [1554, 'no', 'motorcycle', ''], [1555, 'no', 'pediatric', ''], [1556, 'yes', 'aircraft', ''], [1557, 'no', 'snowboard', ''], [1558, 'yes', 'bike', ''], [1559, 'no', 'vatican', ''], [1560, 'yes', 'slots', ''], [1561, 'no', 'bread', ''], [1562, 'no', 'livestock', ''], [1563, 'yes', 'livestock', ''], [1564, 'no', 'microwave', ''], [1565, 'no', 'kitchen', ''], [1566, 'no', 'textile', ''], [1567, 'yes', 'playing', ''], [1568, 'no', 'dome', ''], [1569, 'no', 'basename', ''], [1570, 'no', 'puppy', ''], [1571, 'yes', 'aircraft', ''], [1572, 'yes', 'grid', ''], [1573, 'yes', 'window', ''], [1574, 'yes', 'room', ''], [1575, 'yes', 'bedrooms', ''], [1576, 'no', 'lobby', ''], [1577, 'yes', 'trains', ''], [1578, 'no', 'salad', ''], [1579, 'no', 'mesh', ''], [1580, 'maybe', 'bottles', ''], [1581, 'no', 'textile', ''], [1582, 'no', 'cat', ''], [1583, 'no', 'dogs', ''], [1584, 'yes', 'tower', ''], [1585, 'yes', 'puppy', ''], [1586, 'yes', 'field', ''], [1587, 'yes', 'sand', ''], [1588, 'yes', 'trains', ''], [1589, 'yes', 'geology', ''], [1590, 'no', 'buses', ''], [1591, 'no', 'steam', ''], [1592, 'yes', 'horses', ''], [1593, 'yes', 'chair', ''], [1594, 'yes', 'hall', ''], [1595, 'yes', 'dome', ''], [1596, 'yes', 'circulation', ''], [1597, 'yes', 'tower', ''], [1598, 'maybe', 'textile', ''], [1599, 'no', 'textile', ''], [1600, 'maybe', 'venue', ''], [1601, 'yes', 'pattern', ''], [1602, 'no', 'pets', ''], [1603, 'no', 'depot', ''], [1604, 'no', 'alcohol', ''], [1605, 'yes', 'green', ''], [1606, 'yes', 'social', ''], [1607, 'yes', 'crystal', ''], [1608, 'no', 'wagon', ''], [1609, 'no', 'pets', ''], [1610, 'no', 'avenue', ''], [1611, 'no', 'bread', ''], [1612, 'no', 'debian', ''], [1613, 'yes', 'racing', ''], [1614, 'no', 'bikes', ''], [1615, 'no', 'dog', ''], [1616, 'no', 'cement', ''], [1617, 'yes', 'pool', ''], [1618, 'no', 'balloon', ''], [1619, 'yes', 'dome', ''], [1620, 'no', 'cooking', ''], [1621, 'no', 'airlines', ''], [1622, 'no', 'feeding', ''], [1623, 'yes', 'portraits', ''], [1624, 'yes', 'passage', ''], [1625, 'yes', 'drops', ''], [1626, 'no', 'washer', ''], [1627, 'yes', 'aircraft', ''], [1628, 'yes', 'riding', ''], [1629, 'yes', 'courts', ''], [1630, 'yes', 'bibliographic', ''], [1631, 'yes', 'tiger', ''], [1632, 'no', 'cherry', ''], [1633, 'no', 'basename', ''], [1634, 'no', 'dogs', ''], [1635, 'yes', 'fence', ''], [1636, 'yes', 'skin', ''], [1637, 'no', 'nature', ''], [1638, 'yes', 'elephant', ''], [1639, 'yes', 'foods', ''], [1640, 'yes', 'circular', ''], [1641, 'yes', 'rope', ''], [1642, 'yes', 'dogs', ''], [1643, 'yes', 'forests', ''], [1644, 'no', 'cat', ''], [1645, 'no', 'social', ''], [1646, 'no', 'rouge', ''], [1647, 'no', 'boutique', ''], [1648, 'no', 'chairs', ''], [1649, 'yes', 'cottages', ''], [1650, 'no', 'tribal', ''], [1651, 'no', 'turtle', ''], [1652, 'yes', 'tp', ''], [1653, 'yes', 'bathroom', ''], [1654, 'yes', 'wines', ''], [1655, 'no', 'bathroom', ''], [1656, 'yes', 'mountain', ''], [1657, 'yes', 'circular', ''], [1658, 'yes', 'cat', ''], [1659, 'yes', 'foods', ''], [1660, 'yes', 'sheep', ''], [1661, 'yes', 'meat', ''], [1662, 'yes', 'sunset', ''], [1663, 'maybe', 'beverage', ''], [1664, 'no', 'copper', ''], [1665, 'yes', 'aircraft', ''], [1666, 'yes', 'plants', ''], [1667, 'yes', 'horse', ''], [1668, 'yes', 'plants', ''], [1669, 'no', 'columns', ''], [1670, 'no', 'abstract', ''], [1671, 'no', 'appliances', ''], [1672, 'no', 'aa', ''], [1673, 'yes', 'red', ''], [1674, 'no', 'sink', ''], [1675, 'yes', 'tower', ''], [1676, 'yes', 'sailing', ''], [1677, 'no', 'boutique', ''], [1678, 'no', 'pets', ''], [1679, 'no', 'sheep', ''], [1680, 'no', 'livestock', ''], [1681, 'yes', 'scenic', ''], [1682, 'no', 'bee', ''], [1683, 'yes', 'infant', ''], [1684, 'yes', 'televisions', ''], [1685, 'no', 'cabin', ''], [1686, 'yes', 'buses', ''], [1687, 'yes', 'sink', ''], [1688, 'no', 'exterior', ''], [1689, 'no', 'concrete', ''], [1690, 'yes', 'tile', ''], [1691, 'yes', 'pool', ''], [1692, 'no', 'juvenile', ''], [1693, 'no', 'textile', ''], [1694, 'yes', 'exterior', ''], [1695, 'no', 'classroom', ''], [1696, 'yes', 'cuisine', ''], [1697, 'yes', 'skiing', ''], [1698, 'yes', 'circular', ''], [1699, 'no', 'flower', ''], [1700, 'no', 'yeast', ''], [1701, 'yes', 'cathedral', ''], [1702, 'yes', 'dog', ''], [1703, 'yes', 'breakfast', ''], [1704, 'no', 'cabin', ''], [1705, 'no', 'hay', ''], [1706, 'yes', 'cat', ''], [1707, 'no', 'bw', ''], [1708, 'yes', 'motorcycle', ''], [1709, 'yes', 'dog', ''], [1710, 'no', 'faculty', ''], [1711, 'no', 'telescope', ''], [1712, 'yes', 'texture', ''], [1713, 'no', 'gourmet', ''], [1714, 'yes', 'tiles', ''], [1715, 'yes', 'habitat', ''], [1716, 'no', 'female', ''], [1717, 'yes', 'aircraft', ''], [1718, 'yes', 'leaf', ''], [1719, 'no', 'toys', ''], [1720, 'yes', 'geology', ''], [1721, 'no', 'basename', ''], [1722, 'no', 'wines', ''], [1723, 'yes', 'aviation', ''], [1724, 'no', 'cow', ''], [1725, 'yes', 'bathroom', ''], [1726, 'no', 'hose', ''], [1727, 'yes', 'cathedral', ''], [1728, 'no', 'leather', ''], [1729, 'maybe', 'wood', ''], [1730, 'yes', 'televisions', ''], [1731, 'no', 'satin', ''], [1732, 'yes', 'automotive', ''], [1733, 'no', 'debian', ''], [1734, 'yes', 'buildings', ''], [1735, 'yes', 'mesh', ''], [1736, 'no', 'barn', ''], [1737, 'no', 'campus', ''], [1738, 'no', 'mating', ''], [1739, 'no', 'social', ''], [1740, 'yes', 'circles', ''], [1741, 'yes', 'field', ''], [1742, 'yes', 'breakfast', ''], [1743, 'yes', 'recipes', ''], [1744, 'no', 'tiger', ''], [1745, 'yes', 'toilet', ''], [1746, 'yes', 'nature', ''], [1747, 'yes', 'mountain', ''], [1748, 'maybe', 'bridges', ''], [1749, 'no', 'bee', ''], [1750, 'yes', 'automotive', ''], [1751, 'no', 'ladder', ''], [1752, 'no', 'knitting', ''], [1753, 'no', 'greenhouse', ''], [1754, 'no', 'bathroom', ''], [1755, 'no', 'depot', ''], [1756, 'no', 'yeast', ''], [1757, 'no', 'aircraft', ''], [1758, 'maybe', 'mixer', ''], [1759, 'yes', 'grocery', ''], [1760, 'yes', 'florists', ''], [1761, 'yes', 'web', ''], [1762, 'yes', 'scales', ''], [1763, 'no', 'housewares', ''], [1764, 'yes', 'circles', ''], [1765, 'no', 'buildings', ''], [1766, 'yes', 'kitchen', ''], [1767, 'yes', 'tourism', ''], [1768, 'yes', 'bell', ''], [1769, 'yes', 'skin', ''], [1770, 'yes', 'flower', ''], [1771, 'yes', 'cooking', ''], [1772, 'no', 'textile', ''], [1773, 'no', 'hay', ''], [1774, 'no', 'debian', ''], [1775, 'no', 'teddy', ''], [1776, 'yes', 'stripes', ''], [1777, 'yes', 'wildlife', ''], [1778, 'yes', 'passage', ''], [1779, 'no', 'mesh', ''], [1780, 'yes', 'textile', ''], [1781, 'no', 'kitchen', ''], [1782, 'no', 'juvenile', ''], [1783, 'yes', 'cat', ''], [1784, 'yes', 'cooking', ''], [1785, 'yes', 'spots', ''], [1786, 'yes', 'cabinets', ''], [1787, 'yes', 'food', ''], [1788, 'yes', 'cycling', ''], [1789, 'yes', 'hall', ''], [1790, 'no', 'displays', ''], [1791, 'yes', 'bedrooms', ''], [1792, 'no', 'lace', ''], [1793, 'yes', 'texture', ''], [1794, 'yes', 'daughter', ''], [1795, 'no', 'textile', ''], [1796, 'yes', 'hung', ''], [1797, 'no', 'female', ''], [1798, 'no', 'mesh', ''], [1799, 'yes', 'automotive', ''], [1800, 'yes', 'bird', ''], [1801, 'no', 'yeast', ''], [1802, 'yes', 'dog', ''], [1803, 'yes', 'mountains', ''], [1804, 'yes', 'piano', ''], [1805, 'no', 'kitchen', ''], [1806, 'yes', 'motorcycle', ''], [1807, 'yes', 'hay', ''], [1808, 'yes', 'cooking', ''], [1809, 'yes', 'venue', ''], [1810, 'no', 'gauge', ''], [1811, 'yes', 'steps', ''], [1812, 'yes', 'leaf', ''], [1813, 'no', 'buttons', ''], [1814, 'no', 'quilt', ''], [1815, 'yes', 'bathroom', ''], [1816, 'yes', 'hair', ''], [1817, 'yes', 'structural', ''], [1818, 'no', 'social', ''], [1819, 'no', 'puppy', ''], [1820, 'yes', 'passage', ''], [1821, 'yes', 'casinos', ''], [1822, 'yes', 'kitchen', ''], [1823, 'no', 'firefox', ''], [1824, 'yes', 'stadium', ''], [1825, 'no', 'cabin', ''], [1826, 'yes', 'bird', ''], [1827, 'no', 'bureau', ''], [1828, 'no', 'fruits', ''], [1829, 'yes', 'dog', ''], [1830, 'yes', 'crowd', ''], [1831, 'no', 'hay', ''], [1832, 'yes', 'yellow', ''], [1833, 'yes', 'cooking', ''], [1834, 'yes', 'tiles', ''], [1835, 'yes', 'tiles', ''], [1836, 'yes', 'kitchen', ''], [1837, 'yes', 'bookstore', ''], [1838, 'yes', 'furnished', ''], [1839, 'yes', 'automobiles', ''], [1840, 'yes', 'buses', ''], [1841, 'maybe', 'bedrooms', ''], [1842, 'no', 'assisted', ''], [1843, 'yes', 'temple', ''], [1844, 'maybe', 'refrigerator', ''], [1845, 'yes', 'beverage', ''], [1846, 'no', 'acne', ''], [1847, 'no', 'juvenile', ''], [1848, 'yes', 'infant', ''], [1849, 'yes', 'products', ''], [1850, 'no', 'buses', ''], [1851, 'yes', 'salon', ''], [1852, 'yes', 'grid', ''], [1853, 'no', 'bathroom', ''], [1854, 'no', 'salon', ''], [1855, 'yes', 'vegetable', ''], [1856, 'yes', 'dogs', ''], [1857, 'yes', 'facilities', ''], [1858, 'no', 'geological', ''], [1859, 'yes', 'concrete', ''], [1860, 'no', 'eggs', ''], [1861, 'yes', 'motorcycle', ''], [1862, 'no', 'membrane', ''], [1863, 'yes', 'mesh', ''], [1864, 'yes', 'toddler', ''], [1865, 'no', 'classroom', ''], [1866, 'yes', 'trains', ''], [1867, 'no', 'textile', ''], [1868, 'yes', 'cruises', ''], [1869, 'yes', 'greenhouse', ''], [1870, 'yes', 'baseball', ''], [1871, 'no', 'quilt', ''], [1872, 'yes', 'stripes', ''], [1873, 'no', 'terminals', ''], [1874, 'maybe', 'textile', ''], [1875, 'no', 'cow', ''], [1876, 'yes', 'sailing', ''], [1877, 'yes', 'grid', ''], [1878, 'yes', 'green', ''], [1879, 'yes', 'meat', ''], [1880, 'no', 'leaf', ''], [1881, 'no', 'buttons', ''], [1882, 'no', 'tunnel', ''], [1883, 'no', 'wines', ''], [1884, 'yes', 'engines', ''], [1885, 'yes', 'agriculture', ''], [1886, 'yes', 'kitchen', ''], [1887, 'yes', 'bubble', ''], [1888, 'no', 'sheep', ''], [1889, 'no', 'basename', ''], [1890, 'yes', 'street', ''], [1891, 'no', 'dog', ''], [1892, 'no', 'motorcycles', ''], [1893, 'yes', 'infant', ''], [1894, 'no', 'chick', ''], [1895, 'yes', 'kitchen', ''], [1896, 'yes', 'grid', ''], [1897, 'no', 'canyon', ''], [1898, 'yes', 'circular', ''], [1899, 'yes', 'breakfast', ''], [1900, 'no', 'racing', ''], [1901, 'yes', 'microwave', ''], [1902, 'yes', 'dog', ''], [1903, 'no', 'cooking', ''], [1904, 'yes', 'bottles', ''], [1905, 'yes', 'foods', ''], [1906, 'no', 'basename', ''], [1907, 'yes', 'knit', ''], [1908, 'no', 'bridge', ''], [1909, 'yes', 'vehicles', ''], [1910, 'yes', 'circles', ''], [1911, 'no', 'eating', ''], [1912, 'yes', 'fruits', ''], [1913, 'yes', 'aircraft', ''], [1914, 'no', 'textile', ''], [1915, 'no', 'aggregate', ''], [1916, 'no', 'accommodation', ''], [1917, 'no', 'dishes', ''], [1918, 'yes', 'headquarters', ''], [1919, 'yes', 'fruits', ''], [1920, 'yes', 'textile', ''], [1921, 'no', 'pattern', ''], [1922, 'no', 'dog', ''], [1923, 'yes', 'venue', ''], [1924, 'yes', 'bike', ''], [1925, 'maybe', 'architectural', ''], [1926, 'no', 'tile', ''], [1927, 'maybe', 'hair', ''], [1928, 'no', 'namibia', ''], [1929, 'no', 'horses', ''], [1930, 'no', 'basename', ''], [1931, 'no', 'pets', ''], [1932, 'yes', 'recipe', ''], [1933, 'yes', 'infant', ''], [1934, 'yes', 'roof', ''], [1935, 'no', 'ears', ''], [1936, 'no', 'oven', ''], [1937, 'no', 'concrete', ''], [1938, 'no', 'ladder', ''], [1939, 'no', 'wood', ''], [1940, 'yes', 'stripes', ''], [1941, 'no', 'marketplace', ''], [1942, 'yes', 'bubble', ''], [1943, 'no', 'hall', ''], [1944, 'yes', 'passage', ''], [1945, 'yes', 'breakfast', ''], [1946, 'no', 'cookies', ''], [1947, 'yes', 'cooking', ''], [1948, 'yes', 'cabinets', ''], [1949, 'no', 'bedding', ''], [1950, 'yes', 'dogs', ''], [1951, 'no', 'textile', ''], [1952, 'yes', 'bathroom', ''], [1953, 'yes', 'aggregate', ''], [1954, 'yes', 'carrier', ''], [1955, 'yes', 'swimming', ''], [1956, 'no', 'debian', ''], [1957, 'yes', 'bicycle', ''], [1958, 'no', 'basename', ''], [1959, 'yes', 'web', ''], [1960, 'no', 'textile', ''], [1961, 'no', 'gnu', ''], [1962, 'no', 'aerospace', ''], [1963, 'yes', 'foods', ''], [1964, 'no', 'buses', ''], [1965, 'no', 'basename', ''], [1966, 'yes', 'wool', ''], [1967, 'no', 'sheep', ''], [1968, 'yes', 'geology', ''], [1969, 'yes', 'theaters', 'q'], [1970, 'no', 'passage', ''], [1971, 'yes', 'roads', ''], [1972, 'yes', 'cow', ''], [1973, 'maybe', 'lobby', ''], [1974, 'no', 'pets', ''], [1975, 'yes', 'trains', ''], [1976, 'yes', 'mesh', ''], [1977, 'yes', 'leaf', ''], [1978, 'yes', 'bookstore', ''], [1979, 'no', 'plumbing', ''], [1980, 'no', 'tail', ''], [1981, 'no', 'entrance', ''], [1982, 'yes', 'cloth', ''], [1983, 'no', 'yeast', ''], [1984, 'yes', 'rapids', ''], [1985, 'no', 'textile', ''], [1986, 'no', 'cat', ''], [1987, 'no', 'textile', ''], [1988, 'yes', 'buildings', ''], [1989, 'yes', 'stripes', ''], [1990, 'yes', 'web', ''], [1991, 'no', 'juvenile', ''], [1992, 'no', 'bathroom', ''], [1993, 'yes', 'trains', ''], [1994, 'no', 'cabin', ''], [1995, 'no', 'shoes', ''], [1996, 'no', 'projector', ''], [1997, 'yes', 'pattern', ''], [1998, 'no', 'buried', ''], [1999, 'yes', 'drinking', ''], [2000, 'no', 'fleece', ''], [2001, 'yes', 'mesh', ''], [2002, 'no', 'bottle', ''], [2003, 'yes', 'marketplace', ''], [2004, 'no', 'cherry', ''], [2005, 'no', 'textile', ''], [2006, 'no', 'musician', ''], [2007, 'no', 'dog', ''], [2008, 'yes', 'buses', ''], [2009, 'yes', 'volunteers', ''], [2010, 'no', 'cloth', ''], [2011, 'yes', 'fabric', ''], [2012, 'yes', 'participants', ''], [2013, 'no', 'cat', ''], [2014, 'yes', 'cooking', ''], [2015, 'no', 'bracelets', ''], [2016, 'no', 'acne', ''], [2017, 'no', 'basename', ''], [2018, 'no', 'furnished', ''], [2019, 'no', 'hole', ''], [2020, 'no', 'descending', ''], [2021, 'yes', 'kitchen', ''], [2022, 'no', 'puppy', ''], [2023, 'no', 'membrane', ''], [2024, 'no', 'banner', ''], [2025, 'no', 'juvenile', ''], [2026, 'no', 'flooring', ''], [2027, 'yes', 'lobby', ''], [2028, 'no', 'tiger', ''], [2029, 'yes', 'foods', ''], [2030, 'no', 'hair', ''], [2031, 'no', 'dishes', ''], [2032, 'yes', 'tissue', ''], [2033, 'yes', 'deployment', ''], [2034, 'yes', 'forests', ''], [2035, 'yes', 'horse', ''], [2036, 'no', 'bathroom', ''], [2037, 'no', 'bracelet', ''], [2038, 'yes', 'symbol', ''], [2039, 'yes', 'wildlife', ''], [2040, 'yes', 'horse', ''], [2041, 'no', 'bracelets', ''], [2042, 'no', 'puppy', ''], [2043, 'yes', 'motorcycles', ''], [2044, 'no', 'adopted', ''], [2045, 'no', 'texture', ''], [2046, 'no', 'boutique', ''], [2047, 'no', 'yeast', '']]\n"
          ]
        }
      ],
      "source": [
        "print(rows)"
      ]
    },
    {
      "cell_type": "code",
      "execution_count": 11,
      "id": "8472a2c2",
      "metadata": {},
      "outputs": [],
      "source": [
        "import csv"
      ]
    },
    {
      "cell_type": "code",
      "execution_count": 19,
      "id": "f35a06ca",
      "metadata": {},
      "outputs": [],
      "source": [
        "with open('imagenet_10k_layer4_accuracy.csv', 'a', newline='') as f:\n",
        "    write = csv.writer(f, )\n",
        "    write.writerows(rows)"
      ]
    },
    {
      "cell_type": "markdown",
      "metadata": {},
      "source": [
        "## Layer 1 Metrics"
      ]
    },
    {
      "cell_type": "code",
      "execution_count": 4,
      "metadata": {},
      "outputs": [],
      "source": [
        "layer1 = np.loadtxt('imagenet_10k_layer1_accuracy.csv', skiprows=1, delimiter=',', dtype='str')\n",
        "l1_acc = np.count_nonzero(layer1[:,1] == 'yes') / layer1.shape[0]\n",
        "l1_maybe = np.count_nonzero(layer1[:,1] == 'maybe') / layer1.shape[0]\n",
        "l1_fail = np.count_nonzero(layer1[:,1] == 'no') / layer1.shape[0]"
      ]
    },
    {
      "cell_type": "code",
      "execution_count": 5,
      "metadata": {},
      "outputs": [
        {
          "data": {
            "text/plain": [
              "(0.30980392156862746, 0.06274509803921569, 0.6274509803921569)"
            ]
          },
          "execution_count": 5,
          "metadata": {},
          "output_type": "execute_result"
        }
      ],
      "source": [
        "l1_acc, l1_maybe, l1_fail"
      ]
    },
    {
      "cell_type": "markdown",
      "metadata": {},
      "source": [
        "## Layer 2 Metrics"
      ]
    },
    {
      "cell_type": "code",
      "execution_count": 6,
      "metadata": {},
      "outputs": [],
      "source": [
        "layer2 = np.loadtxt('imagenet_10k_layer2_accuracy.csv', skiprows=1, delimiter=',', dtype='str')\n",
        "l2_acc = np.count_nonzero(layer2[:,1] == 'yes') / layer2.shape[0]\n",
        "l2_maybe = np.count_nonzero(layer2[:,1] == 'maybe') / layer2.shape[0]\n",
        "l2_fail = np.count_nonzero(layer2[:,1] == 'no') / layer2.shape[0]"
      ]
    },
    {
      "cell_type": "code",
      "execution_count": 7,
      "metadata": {},
      "outputs": [
        {
          "data": {
            "text/plain": [
              "(0.2837573385518591, 0.01761252446183953, 0.6986301369863014)"
            ]
          },
          "execution_count": 7,
          "metadata": {},
          "output_type": "execute_result"
        }
      ],
      "source": [
        "l2_acc, l2_maybe, l2_fail"
      ]
    },
    {
      "cell_type": "markdown",
      "metadata": {},
      "source": [
        "## Layer 3 Metrics"
      ]
    },
    {
      "cell_type": "code",
      "execution_count": 8,
      "metadata": {},
      "outputs": [],
      "source": [
        "layer3 = np.loadtxt('imagenet_10k_layer3_accuracy.csv', skiprows=1, delimiter=',', dtype='str')\n",
        "l3_acc = np.count_nonzero(layer3[:,1] == 'yes') / layer3.shape[0]\n",
        "l3_maybe = np.count_nonzero(layer3[:,1] == 'maybe') / layer3.shape[0]\n",
        "l3_fail = np.count_nonzero(layer3[:,1] == 'no') / layer3.shape[0]"
      ]
    },
    {
      "cell_type": "code",
      "execution_count": 9,
      "metadata": {},
      "outputs": [
        {
          "data": {
            "text/plain": [
              "(0.36656891495601174, 0.013685239491691105, 0.6197458455522972)"
            ]
          },
          "execution_count": 9,
          "metadata": {},
          "output_type": "execute_result"
        }
      ],
      "source": [
        "l3_acc, l3_maybe, l3_fail"
      ]
    },
    {
      "cell_type": "markdown",
      "metadata": {},
      "source": [
        "## Layer 4 Metrics"
      ]
    },
    {
      "cell_type": "code",
      "execution_count": 10,
      "metadata": {},
      "outputs": [],
      "source": [
        "layer4 = np.loadtxt('imagenet_10k_layer4_accuracy.csv', skiprows=1, delimiter=',', dtype='str')\n",
        "l4_acc = np.count_nonzero(layer4[:,1] == 'yes') / layer4.shape[0]\n",
        "l4_maybe = np.count_nonzero(layer4[:,1] == 'maybe') / layer4.shape[0]\n",
        "l4_fail = np.count_nonzero(layer4[:,1] == 'no') / layer4.shape[0]"
      ]
    },
    {
      "cell_type": "code",
      "execution_count": 11,
      "metadata": {},
      "outputs": [
        {
          "data": {
            "text/plain": [
              "(0.4890083048363459, 0.016609672691744015, 0.4943820224719101)"
            ]
          },
          "execution_count": 11,
          "metadata": {},
          "output_type": "execute_result"
        }
      ],
      "source": [
        "l4_acc, l4_maybe, l4_fail"
      ]
    },
    {
      "cell_type": "code",
      "execution_count": null,
      "metadata": {},
      "outputs": [],
      "source": []
    }
  ],
  "metadata": {
    "accelerator": "GPU",
    "colab": {
      "provenance": []
    },
    "kernelspec": {
      "display_name": "Python 3",
      "name": "python3"
    },
    "language_info": {
      "codemirror_mode": {
        "name": "ipython",
        "version": 3
      },
      "file_extension": ".py",
      "mimetype": "text/x-python",
      "name": "python",
      "nbconvert_exporter": "python",
      "pygments_lexer": "ipython3",
      "version": "3.9.18"
    }
  },
  "nbformat": 4,
  "nbformat_minor": 5
}
